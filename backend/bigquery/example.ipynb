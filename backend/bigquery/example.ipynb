{
 "cells": [
  {
   "cell_type": "markdown",
   "metadata": {},
   "source": [
    "This is a testing notebook to expore and transform data returned by Dimensions BigQuery."
   ]
  },
  {
   "cell_type": "code",
   "execution_count": 1,
   "metadata": {},
   "outputs": [
    {
     "name": "stdout",
     "output_type": "stream",
     "text": [
      "\n",
      "Executing query:\n",
      "\n",
      "        WITH base_metrics AS (\n",
      "            SELECT \n",
      "                year,\n",
      "                concepts.concept,\n",
      "                concepts.relevance,\n",
      "                id,\n",
      "                citations_count,\n",
      "                metrics.field_citation_ratio,\n",
      "                journal.title as journal_title,\n",
      "                categories.for_2020_v2022.first_level.full[SAFE_OFFSET(0)].name as field_name,\n",
      "                research_org_countries\n",
      "            FROM `ucsd-discover.dimensions.ucsd_publications`,\n",
      "            UNNEST(concepts) as concepts\n",
      "            WHERE date_normal IS NOT NULL AND DATE(date_normal) >= DATE('2021-01-01') AND DATE(date_normal) <= DATE('2022-12-30') AND COALESCE(citations_count, 0) >= 1\n",
      "            AND concepts.relevance > 0.6\n",
      "        ),\n",
      "        topic_summary AS (\n",
      "            SELECT \n",
      "                year,\n",
      "                concept,\n",
      "                COUNT(*) as publication_count,\n",
      "                AVG(citations_count) as avg_citations,\n",
      "                AVG(field_citation_ratio) as field_impact,\n",
      "                COUNT(DISTINCT field_name) as research_fields,\n",
      "                COUNT(DISTINCT ARRAY_TO_STRING(research_org_countries, ',')) as collaborating_countries,\n",
      "                STRING_AGG(DISTINCT journal_title ORDER BY journal_title LIMIT 5) as top_journals\n",
      "            FROM base_metrics\n",
      "            GROUP BY year, concept\n",
      "            HAVING publication_count >= 5\n",
      "        ),\n",
      "        topic_trends AS (\n",
      "            SELECT \n",
      "                *,\n",
      "                LAG(publication_count) OVER(PARTITION BY concept ORDER BY year) as prev_count,\n",
      "                LAG(publication_count, 2) OVER(PARTITION BY concept ORDER BY year) as prev_prev_count\n",
      "            FROM topic_summary\n",
      "        )\n",
      "        SELECT \n",
      "            year,\n",
      "            concept,\n",
      "            publication_count,\n",
      "            avg_citations,\n",
      "            field_impact,\n",
      "            research_fields,\n",
      "            collaborating_countries,\n",
      "            top_journals,\n",
      "            CASE \n",
      "                WHEN prev_count > 0 THEN (publication_count - prev_count) / prev_count\n",
      "                ELSE 0 \n",
      "            END as yoy_growth,\n",
      "            CASE \n",
      "                WHEN prev_prev_count > 0 \n",
      "                THEN (publication_count - prev_prev_count) / prev_prev_count \n",
      "                ELSE 0\n",
      "            END as two_year_growth\n",
      "        FROM topic_trends\n",
      "        ORDER BY year DESC, publication_count DESC\n",
      "        LIMIT 1000\n",
      "        \n",
      "\n",
      "Query returned 197 rows\n",
      "Completed analysis: research_topics\n"
     ]
    }
   ],
   "source": [
    "from datetime import datetime\n",
    "import pandas as pd\n",
    "from bq import BigQuery\n",
    "from dimensions import DimensionsAnalytics\n",
    "\n",
    "\n",
    "bq = BigQuery()\n",
    "bq.add_dataset(\n",
    "    name='publications',\n",
    "    project_id='ucsd-discover',\n",
    "    dataset='dimensions',\n",
    "    table='ucsd_publications',\n",
    "    billing_project_id='ucsd-discover'\n",
    ")\n",
    "analytics = DimensionsAnalytics(bq)\n",
    "\n",
    "# Example filters\n",
    "filters = {\n",
    "    \"dateRange\": {\n",
    "        \"from\": \"2021-01-01\",\n",
    "        \"to\": \"2022-12-30\"\n",
    "    },\n",
    "    \"citationCount\": {\n",
    "        \"min\": 1,\n",
    "        \"max\": None\n",
    "    }\n",
    "}\n",
    "\n",
    "result = await analytics.run_single_analysis(\n",
    "    analysis_name='research_topics',\n",
    "    dataset_name='publications',\n",
    "    filters=filters\n",
    ")"
   ]
  },
  {
   "cell_type": "code",
   "execution_count": 2,
   "metadata": {},
   "outputs": [
    {
     "name": "stdout",
     "output_type": "stream",
     "text": [
      "Index(['year', 'concept', 'publication_count', 'avg_citations', 'field_impact',\n",
      "       'research_fields', 'collaborating_countries', 'top_journals',\n",
      "       'yoy_growth', 'two_year_growth'],\n",
      "      dtype='object')\n",
      "197\n"
     ]
    }
   ],
   "source": [
    "print(result.columns)\n",
    "print(len(result))"
   ]
  },
  {
   "cell_type": "code",
   "execution_count": 3,
   "metadata": {},
   "outputs": [
    {
     "name": "stdout",
     "output_type": "stream",
     "text": [
      "0                     T cells\n",
      "1               mental health\n",
      "2                older adults\n",
      "3            T cell responses\n",
      "4                  SARS-CoV-2\n",
      "                ...          \n",
      "192        mental health care\n",
      "193    mental health services\n",
      "194         colorectal cancer\n",
      "195              focus groups\n",
      "196          Kawasaki disease\n",
      "Name: concept, Length: 197, dtype: object\n"
     ]
    }
   ],
   "source": [
    "print(result['concept'])"
   ]
  },
  {
   "cell_type": "code",
   "execution_count": 4,
   "metadata": {},
   "outputs": [
    {
     "name": "stdout",
     "output_type": "stream",
     "text": [
      "DATA QUALITY ANALYSIS\n",
      "================================================================================\n",
      "\n",
      "Column: year\n",
      "Non-zero values: 197/197 (100.0%)\n",
      "----------------------------------------\n",
      "\n",
      "Column: concept\n",
      "Non-zero values: 197/197 (100.0%)\n",
      "----------------------------------------\n",
      "\n",
      "Column: publication_count\n",
      "Non-zero values: 197/197 (100.0%)\n",
      "----------------------------------------\n",
      "\n",
      "Column: avg_citations\n",
      "Non-zero values: 197/197 (100.0%)\n",
      "Min: 3.571428571428572\n",
      "Max: 887.0\n",
      "Mean: 44.11\n",
      "----------------------------------------\n",
      "\n",
      "Column: field_impact\n",
      "Non-zero values: 197/197 (100.0%)\n",
      "Min: 1.284\n",
      "Max: 187.74800000000002\n",
      "Mean: 15.93\n",
      "----------------------------------------\n",
      "\n",
      "Column: research_fields\n",
      "Non-zero values: 197/197 (100.0%)\n",
      "----------------------------------------\n",
      "\n",
      "Column: collaborating_countries\n",
      "Non-zero values: 197/197 (100.0%)\n",
      "----------------------------------------\n",
      "\n",
      "Column: top_journals\n",
      "Non-zero values: 197/197 (100.0%)\n",
      "----------------------------------------\n",
      "\n",
      "Column: yoy_growth\n",
      "Non-zero values: 40/197 (20.3%)\n",
      "Min: -0.42857142857142855\n",
      "Max: 1.5\n",
      "Mean: 0.08\n",
      "----------------------------------------\n",
      "\n",
      "Column: two_year_growth\n",
      "Non-zero values: 0/197 (0.0%)\n",
      "Min: 0.0\n",
      "Max: 0.0\n",
      "Mean: 0.00\n",
      "----------------------------------------\n"
     ]
    }
   ],
   "source": [
    "def analyze_columns(df):\n",
    "    \"\"\"Analyze each column for potential data quality issues\"\"\"\n",
    "    print(\"DATA QUALITY ANALYSIS\")\n",
    "    print(\"=\" * 80)\n",
    "    \n",
    "    for column in df.columns:\n",
    "        non_zero = (df[column] != 0).sum()\n",
    "        total = len(df)\n",
    "        non_zero_pct = (non_zero/total) * 100\n",
    "        \n",
    "        print(f\"\\nColumn: {column}\")\n",
    "        print(f\"Non-zero values: {non_zero}/{total} ({non_zero_pct:.1f}%)\")\n",
    "        if df[column].dtype in ['int64', 'float64']:\n",
    "            print(f\"Min: {df[column].min()}\")\n",
    "            print(f\"Max: {df[column].max()}\")\n",
    "            print(f\"Mean: {df[column].mean():.2f}\")\n",
    "        print(\"-\" * 40)\n",
    "\n",
    "analyze_columns(result)"
   ]
  }
 ],
 "metadata": {
  "kernelspec": {
   "display_name": "discover-api",
   "language": "python",
   "name": "python3"
  },
  "language_info": {
   "codemirror_mode": {
    "name": "ipython",
    "version": 3
   },
   "file_extension": ".py",
   "mimetype": "text/x-python",
   "name": "python",
   "nbconvert_exporter": "python",
   "pygments_lexer": "ipython3",
   "version": "3.12.2"
  }
 },
 "nbformat": 4,
 "nbformat_minor": 2
}
