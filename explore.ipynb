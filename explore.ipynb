{
 "cells": [
  {
   "cell_type": "code",
   "execution_count": 1,
   "metadata": {},
   "outputs": [],
   "source": [
    "import pandas as pd \n",
    "import numpy as np "
   ]
  },
  {
   "cell_type": "code",
   "execution_count": 3,
   "metadata": {},
   "outputs": [],
   "source": [
    "openalex_data = pd.read_csv(\"institution_papers_2021-01-01_to_2024-07-31.csv\")\n",
    "dimensions_data = pd.read_csv(\"ucsd_dimensions_2021-July2024.csv\")"
   ]
  },
  {
   "cell_type": "code",
   "execution_count": 4,
   "metadata": {},
   "outputs": [
    {
     "name": "stdout",
     "output_type": "stream",
     "text": [
      "53475\n",
      "45321\n"
     ]
    }
   ],
   "source": [
    "print(len(openalex_data))\n",
    "print(len(dimensions_data))"
   ]
  },
  {
   "cell_type": "code",
   "execution_count": 5,
   "metadata": {},
   "outputs": [
    {
     "name": "stdout",
     "output_type": "stream",
     "text": [
      "53475 unique values for id\n",
      "52848 unique values for doi\n",
      "50837 unique values for title\n",
      "50837 unique values for display_name\n",
      "4 unique values for publication_year\n",
      "1308 unique values for publication_date\n",
      "53475 unique values for ids\n",
      "19 unique values for language\n",
      "53183 unique values for primary_location\n",
      "17 unique values for type\n",
      "17 unique values for type_crossref\n",
      "24 unique values for indexed_in\n",
      "35452 unique values for open_access\n",
      "50004 unique values for authorships\n",
      "36 unique values for institution_assertions\n",
      "43 unique values for countries_distinct_count\n",
      "153 unique values for institutions_distinct_count\n",
      "17600 unique values for corresponding_author_ids\n",
      "9135 unique values for corresponding_institution_ids\n",
      "774 unique values for apc_list\n",
      "843 unique values for apc_paid\n",
      "6723 unique values for fwci\n",
      "2 unique values for is_authors_truncated\n",
      "2 unique values for has_fulltext\n",
      "394 unique values for cited_by_count\n",
      "3648 unique values for citation_normalized_percentile\n",
      "54 unique values for cited_by_percentile_year\n",
      "33611 unique values for biblio\n",
      "2 unique values for is_retracted\n",
      "2 unique values for is_paratext\n",
      "28532 unique values for primary_topic\n",
      "51860 unique values for topics\n",
      "51947 unique values for keywords\n",
      "53098 unique values for concepts\n",
      "18212 unique values for mesh\n",
      "36 unique values for locations_count\n",
      "53183 unique values for locations\n",
      "35775 unique values for best_oa_location\n",
      "4450 unique values for sustainable_development_goals\n",
      "13727 unique values for grants\n",
      "286 unique values for datasets\n",
      "973 unique values for versions\n",
      "428 unique values for referenced_works_count\n",
      "40973 unique values for referenced_works\n",
      "43297 unique values for related_works\n",
      "46408 unique values for abstract_inverted_index\n",
      "53475 unique values for cited_by_api_url\n",
      "7278 unique values for counts_by_year\n",
      "53475 unique values for updated_date\n",
      "985 unique values for created_date\n",
      "2 unique values for fulltext_origin\n"
     ]
    }
   ],
   "source": [
    "for i in openalex_data.columns:\n",
    "    print(f\"{len(openalex_data[i].unique())} unique values for {i}\")"
   ]
  },
  {
   "cell_type": "code",
   "execution_count": 6,
   "metadata": {},
   "outputs": [
    {
     "name": "stdout",
     "output_type": "stream",
     "text": [
      "43928 unique values for title\n",
      "44297 unique values for authors\n",
      "335 unique values for authors_count\n",
      "3062 unique values for category_for\n",
      "445 unique values for publisher\n",
      "30937 unique values for research_org_names\n",
      "28013 unique values for research_orgs\n",
      "353 unique values for times_cited\n",
      "6 unique values for type\n",
      "4 unique values for year\n",
      "6108 unique values for journal.id\n",
      "6100 unique values for journal.title\n",
      "15812 unique values for funders\n"
     ]
    }
   ],
   "source": [
    "for i in dimensions_data.columns:\n",
    "    print(f\"{len(dimensions_data[i].unique())} unique values for {i}\")"
   ]
  },
  {
   "cell_type": "code",
   "execution_count": null,
   "metadata": {},
   "outputs": [
    {
     "name": "stdout",
     "output_type": "stream",
     "text": [
      "36923 out of 45321 items in dimensions data are in openalex data\n"
     ]
    },
    {
     "ename": "",
     "evalue": "",
     "output_type": "error",
     "traceback": [
      "\u001b[1;31mThe Kernel crashed while executing code in the current cell or a previous cell. \n",
      "\u001b[1;31mPlease review the code in the cell(s) to identify a possible cause of the failure. \n",
      "\u001b[1;31mClick <a href='https://aka.ms/vscodeJupyterKernelCrash'>here</a> for more info. \n",
      "\u001b[1;31mView Jupyter <a href='command:jupyter.viewOutput'>log</a> for further details."
     ]
    }
   ],
   "source": [
    "overlap = dimensions_data[dimensions_data['title'].isin(openalex_data['title'])]\n",
    "print(f\"{len(overlap)} out of {len(dimensions_data)} items in dimensions data are in openalex data\")\n"
   ]
  },
  {
   "cell_type": "code",
   "execution_count": null,
   "metadata": {},
   "outputs": [],
   "source": []
  }
 ],
 "metadata": {
  "kernelspec": {
   "display_name": "Python 3",
   "language": "python",
   "name": "python3"
  },
  "language_info": {
   "codemirror_mode": {
    "name": "ipython",
    "version": 3
   },
   "file_extension": ".py",
   "mimetype": "text/x-python",
   "name": "python",
   "nbconvert_exporter": "python",
   "pygments_lexer": "ipython3",
   "version": "3.13.0"
  }
 },
 "nbformat": 4,
 "nbformat_minor": 2
}
